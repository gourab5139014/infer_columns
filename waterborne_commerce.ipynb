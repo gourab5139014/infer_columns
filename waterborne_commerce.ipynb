{
 "cells": [
  {
   "cell_type": "code",
   "execution_count": 10,
   "metadata": {},
   "outputs": [],
   "source": [
    "%matplotlib inline\n",
    "\n",
    "import warnings\n",
    "import numpy as np\n",
    "import pandas as pd\n",
    "from pandas.api.types import is_string_dtype, is_numeric_dtype, is_integer_dtype\n",
    "# import statsmodels as sm\n",
    "import matplotlib\n",
    "import matplotlib.pyplot as plt\n"
   ]
  },
  {
   "cell_type": "code",
   "execution_count": 2,
   "metadata": {},
   "outputs": [
    {
     "name": "stderr",
     "output_type": "stream",
     "text": [
      "/Users/gourabmi/Documents/workspace/infer_columns/venv3/lib/python3.6/site-packages/IPython/core/interactiveshell.py:2728: DtypeWarning: Columns (1,2,3,4,5,6,7,8,9,10,11) have mixed types. Specify dtype option on import or set low_memory=False.\n",
      "  interactivity=interactivity, compiler=compiler, result=result)\n"
     ]
    },
    {
     "data": {
      "text/html": [
       "<div>\n",
       "<table border=\"1\" class=\"dataframe\">\n",
       "  <thead>\n",
       "    <tr style=\"text-align: right;\">\n",
       "      <th></th>\n",
       "      <th>HUC_12</th>\n",
       "      <th>PGAPSTAT3</th>\n",
       "      <th>PIUCN_IA</th>\n",
       "      <th>PIUCN_II</th>\n",
       "      <th>PIUCN_III</th>\n",
       "      <th>PIUCN_IV</th>\n",
       "      <th>PIUCN_V</th>\n",
       "      <th>PIUCN_VI</th>\n",
       "      <th>PIUCN_IB</th>\n",
       "      <th>PIUCN_ALL</th>\n",
       "      <th>PGAPSTAT1_2</th>\n",
       "      <th>PGAPSTAT123</th>\n",
       "    </tr>\n",
       "  </thead>\n",
       "  <tbody>\n",
       "    <tr>\n",
       "      <th>0</th>\n",
       "      <td>10100020101</td>\n",
       "      <td>40.4681</td>\n",
       "      <td>0.3125</td>\n",
       "      <td>0</td>\n",
       "      <td>0</td>\n",
       "      <td>0</td>\n",
       "      <td>0</td>\n",
       "      <td>0</td>\n",
       "      <td>0.105501</td>\n",
       "      <td>0.418001</td>\n",
       "      <td>0.970601</td>\n",
       "      <td>41</td>\n",
       "    </tr>\n",
       "    <tr>\n",
       "      <th>1</th>\n",
       "      <td>10100020102</td>\n",
       "      <td>49.7524</td>\n",
       "      <td>1.24451e-08</td>\n",
       "      <td>0</td>\n",
       "      <td>0</td>\n",
       "      <td>0</td>\n",
       "      <td>0</td>\n",
       "      <td>0</td>\n",
       "      <td>0.0288002</td>\n",
       "      <td>0.0288002</td>\n",
       "      <td>0.0288002</td>\n",
       "      <td>50</td>\n",
       "    </tr>\n",
       "    <tr>\n",
       "      <th>2</th>\n",
       "      <td>10100020103</td>\n",
       "      <td>70.0271</td>\n",
       "      <td>1.55307e-08</td>\n",
       "      <td>0</td>\n",
       "      <td>0</td>\n",
       "      <td>0</td>\n",
       "      <td>0</td>\n",
       "      <td>0</td>\n",
       "      <td>0.6305</td>\n",
       "      <td>0.6305</td>\n",
       "      <td>19.146</td>\n",
       "      <td>89</td>\n",
       "    </tr>\n",
       "    <tr>\n",
       "      <th>3</th>\n",
       "      <td>10100020104</td>\n",
       "      <td>45.9408</td>\n",
       "      <td>0</td>\n",
       "      <td>0</td>\n",
       "      <td>0</td>\n",
       "      <td>0</td>\n",
       "      <td>0</td>\n",
       "      <td>0</td>\n",
       "      <td>1.0092</td>\n",
       "      <td>1.0092</td>\n",
       "      <td>1.0092</td>\n",
       "      <td>47</td>\n",
       "    </tr>\n",
       "    <tr>\n",
       "      <th>4</th>\n",
       "      <td>10100020105</td>\n",
       "      <td>55.4016</td>\n",
       "      <td>8.54192e-09</td>\n",
       "      <td>0</td>\n",
       "      <td>0</td>\n",
       "      <td>0</td>\n",
       "      <td>0</td>\n",
       "      <td>0</td>\n",
       "      <td>18.6537</td>\n",
       "      <td>18.6537</td>\n",
       "      <td>18.6537</td>\n",
       "      <td>74</td>\n",
       "    </tr>\n",
       "  </tbody>\n",
       "</table>\n",
       "</div>"
      ],
      "text/plain": [
       "        HUC_12 PGAPSTAT3     PIUCN_IA PIUCN_II PIUCN_III PIUCN_IV PIUCN_V  \\\n",
       "0  10100020101   40.4681       0.3125        0         0        0       0   \n",
       "1  10100020102   49.7524  1.24451e-08        0         0        0       0   \n",
       "2  10100020103   70.0271  1.55307e-08        0         0        0       0   \n",
       "3  10100020104   45.9408            0        0         0        0       0   \n",
       "4  10100020105   55.4016  8.54192e-09        0         0        0       0   \n",
       "\n",
       "  PIUCN_VI   PIUCN_IB  PIUCN_ALL PGAPSTAT1_2 PGAPSTAT123  \n",
       "0        0   0.105501   0.418001    0.970601          41  \n",
       "1        0  0.0288002  0.0288002   0.0288002          50  \n",
       "2        0     0.6305     0.6305      19.146          89  \n",
       "3        0     1.0092     1.0092      1.0092          47  \n",
       "4        0    18.6537    18.6537     18.6537          74  "
      ]
     },
     "execution_count": 2,
     "metadata": {},
     "output_type": "execute_result"
    }
   ],
   "source": [
    "dt = pd.read_csv('./data_test/protection_NHDPv2_WBD.csv')\n",
    "dt.head()"
   ]
  },
  {
   "cell_type": "code",
   "execution_count": 13,
   "metadata": {},
   "outputs": [
    {
     "name": "stdout",
     "output_type": "stream",
     "text": [
      "HUC_12          int64\n",
      "PGAPSTAT3      object\n",
      "PIUCN_IA       object\n",
      "PIUCN_II       object\n",
      "PIUCN_III      object\n",
      "PIUCN_IV       object\n",
      "PIUCN_V        object\n",
      "PIUCN_VI       object\n",
      "PIUCN_IB       object\n",
      "PIUCN_ALL      object\n",
      "PGAPSTAT1_2    object\n",
      "PGAPSTAT123    object\n",
      "dtype: object\n"
     ]
    },
    {
     "data": {
      "text/plain": [
       "False"
      ]
     },
     "execution_count": 13,
     "metadata": {},
     "output_type": "execute_result"
    }
   ],
   "source": [
    "print(dt.dtypes)\n",
    "# dt['PGAPSTAT3'].apply(lambda x: x.strip())\n",
    "is_numeric_dtype(dt['PGAPSTAT3'])"
   ]
  },
  {
   "cell_type": "code",
   "execution_count": 4,
   "metadata": {},
   "outputs": [
    {
     "name": "stdout",
     "output_type": "stream",
     "text": [
      "[ 0  1  2  3  4  5  6  7  8  9 10 11 12 13 14 15 16 17 18 19 20 21 22 23 24\n",
      " 25 26 27 28 29 30 31 32 33 34 35 36 37 38 40]\n",
      "[ 0  1  3 38  4  5  6  7  8  9 10 11 12 13 14 15 16 17 18 11 20 21 22 23 23\n",
      " 17 26 15 28 29 30 26 32  0 34 35 36 23 38 40]\n"
     ]
    }
   ],
   "source": [
    "# fake1 = [1990 for i in range(0, 40)]\n",
    "fake1 = np.linspace(0, 40, 40, dtype=int)\n",
    "# fake1\n",
    "# replace_at = \n",
    "# np.random.random_integers(1,5)\n",
    "print(fake1)\n",
    "replace_at = np.random.randint(0, 40, size=10)\n",
    "for i in range(0, len(fake1)):\n",
    "    if(i in replace_at):\n",
    "        fake1[i] = np.random.randint(0, 40)\n",
    "print(fake1)"
   ]
  },
  {
   "cell_type": "code",
   "execution_count": 5,
   "metadata": {},
   "outputs": [
    {
     "data": {
      "text/plain": [
       "array([ 982699639,  946326959,  979042910,  972966806, 1075291865,\n",
       "       1080312665, 1077483402, 1054456797,  957009596,  956520817,\n",
       "       1032682486, 1014111539, 1037192777, 1076478216, 1111772499,\n",
       "       1102532159, 1122298633, 1078551426, 1094629024, 1068179971,\n",
       "       1099011258, 1093035277, 1100678628, 1112526914, 1094112032,\n",
       "       1061786595, 1069804693, 1042472173, 1021000982, 1016136056,\n",
       "       1047087648, 1028910423, 1023496165, 1021519349,  956335255,\n",
       "        857084650,  893461204,  887930255,  884915432,  891151706], dtype=int64)"
      ]
     },
     "execution_count": 5,
     "metadata": {},
     "output_type": "execute_result"
    }
   ],
   "source": [
    "col1 = dt['Year'].values\n",
    "col2 = dt['Total'].values\n",
    "col3 = dt['Foreign'].values\n",
    "col4 = dt['Domestic'].values\n",
    "col4.ravel()"
   ]
  },
  {
   "cell_type": "code",
   "execution_count": null,
   "metadata": {},
   "outputs": [],
   "source": [
    "# Create models from data\n",
    "def best_fit_distribution(data, bins=200, ax=None):\n",
    "    \"\"\"Model data by finding best fit distribution to data\"\"\"\n",
    "    # Get histogram of original data\n",
    "    y, x = np.histogram(data, bins=bins, density=True)\n",
    "    x = (x + np.roll(x, -1))[:-1] / 2.0\n",
    "\n",
    "    # Distributions to check\n",
    "    DISTRIBUTIONS = [st.uniform, st.norm, st.zipf, st.linregress]\n",
    "#     DISTRIBUTIONS = [st.linregress]\n",
    "\n",
    "    # Best holders\n",
    "    best_distribution = st.norm\n",
    "    best_params = (0.0, 1.0)\n",
    "    best_sse = np.inf\n",
    "\n",
    "    # Estimate distribution parameters from data\n",
    "    for distribution in DISTRIBUTIONS:\n",
    "\n",
    "        # Try to fit the distribution\n",
    "        try:\n",
    "            # Ignore warnings from data that can't be fit\n",
    "            with warnings.catch_warnings():\n",
    "                warnings.filterwarnings('ignore')\n",
    "\n",
    "                # fit dist to data\n",
    "                params = distribution.fit(data) #TODO Study return parameters for different distributions\n",
    "\n",
    "                # Separate parts of parameters\n",
    "                arg = params[:-2]\n",
    "                loc = params[-2]\n",
    "                scale = params[-1]\n",
    "\n",
    "                # Calculate fitted PDF and error with fit in distribution\n",
    "                pdf = distribution.pdf(x, loc=loc, scale=scale, *arg)\n",
    "                sse = np.sum(np.power(y - pdf, 2.0))\n",
    "\n",
    "                # if axis pass in add to plot\n",
    "                try:\n",
    "                    if ax:\n",
    "                        pd.Series(pdf, x).plot(ax=ax)\n",
    "                    end\n",
    "                except Exception:\n",
    "                    pass\n",
    "\n",
    "                # identify if this distribution is better\n",
    "                if best_sse > sse > 0:\n",
    "                    best_distribution = distribution\n",
    "                    best_params = params\n",
    "                    best_sse = sse\n",
    "\n",
    "        except Exception:\n",
    "            pass\n",
    "\n",
    "    return (best_distribution.name, best_params)"
   ]
  },
  {
   "cell_type": "code",
   "execution_count": null,
   "metadata": {},
   "outputs": [],
   "source": [
    "# Load data from statsmodels datasets\n",
    "# data = pd.Series(sm.datasets.elnino.load_pandas().data.set_index('YEAR').values.ravel())\n",
    "# data = pd.Series(fake1)\n",
    "data = pd.Series(col1)\n",
    "\n",
    "# Plot for comparison\n",
    "plt.figure(figsize=(12,8))\n",
    "ax = data.plot(kind='hist', bins=50, normed=True, alpha=0.5, color=plt.rcParams['axes.color_cycle'][1])\n",
    "# Save plot limits\n",
    "dataYLim = ax.get_ylim()\n",
    "\n",
    "# Find best fit distribution\n",
    "best_fit_name, best_fir_paramms = best_fit_distribution(data, 200, ax)\n",
    "best_dist = getattr(st, best_fit_name)\n",
    "print(\"{0} , {1}, {2}\".format(best_fit_name, best_fir_paramms, best_dist ))"
   ]
  },
  {
   "cell_type": "code",
   "execution_count": null,
   "metadata": {},
   "outputs": [],
   "source": [
    "best_dist"
   ]
  }
 ],
 "metadata": {
  "kernelspec": {
   "display_name": "Python 3",
   "language": "python",
   "name": "python3"
  },
  "language_info": {
   "codemirror_mode": {
    "name": "ipython",
    "version": 3
   },
   "file_extension": ".py",
   "mimetype": "text/x-python",
   "name": "python",
   "nbconvert_exporter": "python",
   "pygments_lexer": "ipython3",
   "version": "3.6.1"
  }
 },
 "nbformat": 4,
 "nbformat_minor": 2
}
