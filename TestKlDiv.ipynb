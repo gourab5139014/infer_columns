{
 "cells": [
  {
   "cell_type": "code",
   "execution_count": 1,
   "metadata": {},
   "outputs": [],
   "source": [
    "%matplotlib inline\n",
    "\n",
    "import warnings\n",
    "import numpy as np\n",
    "import pandas as pd\n",
    "import scipy.stats as st\n",
    "import matplotlib.pyplot as plt\n",
    "import random\n",
    "from collections import Counter, namedtuple\n",
    "from math import log"
   ]
  },
  {
   "cell_type": "code",
   "execution_count": 2,
   "metadata": {},
   "outputs": [
    {
     "name": "stdout",
     "output_type": "stream",
     "text": [
      "[ 0  1  2  3  4  5  2  7  8  9 10 11 12 13 14 15 16 17 18 19 20 21 22 23\n",
      " 24 25 26 27 28 29 30 31 32 33 34 35 36 37 38 40]\n",
      "[ 0  1  2  3  4  5  6  7  8  9 10 11 12 13 14 15 16 17 18 19 20 21 22 23\n",
      " 24 25 26 27 28 29 30 31 32 33 34 35 36  6 38 40]\n"
     ]
    }
   ],
   "source": [
    "fake1 = np.linspace(0, 40, 40, dtype=int)\n",
    "fake2 = fake1.copy()\n",
    "\n",
    "replace_at = np.random.randint(0, 40, size=1)\n",
    "for i in range(0, len(fake1)): # Replacing random elements in the uniform distribution\n",
    "    if(i in replace_at):\n",
    "        fake1[i] = np.random.randint(0, 40)\n",
    "print(fake1)\n",
    "\n",
    "fake2 = np.linspace(0, 40, 40, dtype=int)\n",
    "replace_at = np.random.randint(0, 40, size=1)\n",
    "for i in range(0, len(fake2)): # Replacing random elements in the uniform distribution\n",
    "    if(i in replace_at):\n",
    "        fake2[i] = np.random.randint(0, 40)\n",
    "print(fake2)\n",
    "# mini_fake1 = random.sample(fake1, 10)\n",
    "# print(mini_fake1)"
   ]
  },
  {
   "cell_type": "code",
   "execution_count": 3,
   "metadata": {},
   "outputs": [],
   "source": [
    "def kl_div_scipy(p,q):\n",
    "    p = np.asarray(p, dtype=np.float64)\n",
    "    q = np.asarray(q, dtype=np.float64)\n",
    "\n",
    "#     return np.sum(np.where(p != 0, p * np.log(p / q), 0))\n",
    "    return st.entropy(p,q)"
   ]
  },
  {
   "cell_type": "code",
   "execution_count": 4,
   "metadata": {},
   "outputs": [
    {
     "data": {
      "text/plain": [
       "0.048431617847473254"
      ]
     },
     "execution_count": 4,
     "metadata": {},
     "output_type": "execute_result"
    }
   ],
   "source": [
    "kl_div_scipy(fake1,fake2)"
   ]
  },
  {
   "cell_type": "code",
   "execution_count": 5,
   "metadata": {},
   "outputs": [],
   "source": [
    "def my_kl_divergence(p,q):\n",
    "    \"\"\" Returns Kl Divergence of two integer lists. Theory at https://www.countbayesie.com/blog/2017/5/9/kullback-leibler-divergence-explained\n",
    "    :type p: List[int]\n",
    "    :type q: List[int]\n",
    "    :rtype: double\n",
    "    \"\"\"\n",
    "    cf1, l1 = Counter(p), len(p)\n",
    "    cf2, l2 = Counter(q), len(q)\n",
    "    \n",
    "#     print(\"Initial Lengths cf1 {0} , cf2 {1}\".format(len(cf1),len(cf2)))\n",
    "#     print(cf1.keys())\n",
    "#     print(cf2.keys())\n",
    "    # Pre-processing for using KL Divergence of Frequency Counters cf1 and cf2\n",
    "    s = set(cf1.keys())\n",
    "    s = s.intersection(cf2.keys()) # Collecting all unique elements in cf1 and cf2\n",
    "\n",
    "    # Normalizing the series to reflect probabilities of occurence\n",
    "    for e in list(cf1): # Since we can't iterate over a mutable collection undergoing change\n",
    "        if e in s:\n",
    "            cf1[e] = float(cf1[e]/l1)\n",
    "        else:\n",
    "            cf1.pop(e, None)\n",
    "    for f in list(cf2):\n",
    "        if f in s:\n",
    "            cf2[f] = float(cf2[f]/l2)\n",
    "        else:\n",
    "            cf2.pop(f, None)\n",
    "#     print(\"Sum CF1 {0}\".format(np.sum(list(cf1.values()))))\n",
    "#     print(\"Sum CF2 {0}\".format(np.sum(list(cf2.values()))))\n",
    "#     print(\"Lengths cf1 {0} , cf2 {1}\".format(len(cf1),len(cf2)))\n",
    "#     print(cf1.keys())\n",
    "#     print(cf1.values())\n",
    "#     print(cf2.keys())\n",
    "#     print(cf2.values())\n",
    "    \n",
    "#     kl_div = 0.0\n",
    "#     for c in s: # For each unique element in both series\n",
    "#         if cf1[c] != 0 and cf2[c] != 0:\n",
    "#             t = cf1[c] * log(cf1[c]/cf2[c])\n",
    "#             print(\"cf1[{0}]={1} cf2[{0}]={2} t={3} k={4}\".format(c, cf1[c], cf2[c], t, kl_div))\n",
    "#             kl_div += t \n",
    "            \n",
    "#             t2 = cf2[c] * log(cf2[c]/cf1[c])\n",
    "#             print(\"cf2[{0}]={1} cf1[{0}]={2} t2={3} k={4}\".format(c, cf2[c], cf1[c], t2, kl_div))\n",
    "#             kl_div += t2 \n",
    "    lib_val = kl_div_scipy(list(cf1.values()),list(cf2.values()))\n",
    "#     print(\"Kl Div from library func = {0}\".format(lib_val))\n",
    "    return lib_val"
   ]
  },
  {
   "cell_type": "code",
   "execution_count": 6,
   "metadata": {},
   "outputs": [
    {
     "data": {
      "text/plain": [
       "0.009570522856223646"
      ]
     },
     "execution_count": 6,
     "metadata": {},
     "output_type": "execute_result"
    }
   ],
   "source": [
    "my_kl_divergence(fake1, fake2)"
   ]
  },
  {
   "cell_type": "code",
   "execution_count": 16,
   "metadata": {},
   "outputs": [
    {
     "name": "stdout",
     "output_type": "stream",
     "text": [
      "Dist: <scipy.stats._continuous_distns.uniform_gen object at 0x10a122a20>. Parameters: (-9.993629551660512e-05, 40.00011611152608)\n",
      "Dist: <scipy.stats._continuous_distns.norm_gen object at 0x10a05d438>. Parameters: (19.425, 11.719401648548445)\n",
      "Dist: <scipy.stats._continuous_distns.lognorm_gen object at 0x10a0ecf60>. Parameters: (0.0907828958360005, -109.22734873128854, 128.1642304190303)\n"
     ]
    }
   ],
   "source": [
    "data = fake1 # TODO Do not use this code. This compares distributions through MLE minimization\n",
    "# Testing KL Divergence with a standard distribution\n",
    "DISTRIBUTIONS = [st.uniform, st.norm, st.lognorm]\n",
    "for distribution in DISTRIBUTIONS:\n",
    "    # fit dist to data\n",
    "    params = distribution.fit(data)\n",
    "    print(\"Dist: {0}. Parameters: {1}\".format(distribution, params))\n",
    "\n",
    "# Distribution.fit uses scipy.stats._continuous_distns.py --(uses)--> scipy.stats._distn_infrastructure.rv_continuous.fit() --(uses)--> scipy.optimize.optimize.fmin()"
   ]
  },
  {
   "cell_type": "code",
   "execution_count": 8,
   "metadata": {},
   "outputs": [
    {
     "data": {
      "image/png": "[encoded data removed]",
      "text/plain": [
       "<matplotlib.figure.Figure at 0x10a360978>"
      ]
     },
     "metadata": {},
     "output_type": "display_data"
    },
    {
     "name": "stdout",
     "output_type": "stream",
     "text": [
      "Kl Div = 0.13315237952440312\n"
     ]
    }
   ],
   "source": [
    "dst = fake1\n",
    "\n",
    "lower, upper = np.min(dst), np.max(dst)\n",
    "mu, sigma = np.mean(dst), np.std(dst)\n",
    "# s = np.random.truncnorm(mu, sigma, len(dst)) # TODO How many points to sample ?\n",
    "s = st.truncnorm(a = (lower - mu) / sigma, b = (upper - mu) / sigma, loc=mu, scale=sigma).rvs(len(dst))\n",
    "s = s.round().astype(int)\n",
    "\n",
    "bns = int(2 * (mu-lower) + 1)\n",
    "plt.hist(dst, bins=bns, normed=True);\n",
    "plt.hist(s, alpha=0.5, bins=bns, normed=True);\n",
    "plt.title('Reconstructing N(mu,sig) from Uniform Dst',loc='left')\n",
    "plt.show();\n",
    "print(\"Kl Div = {0}\".format(my_kl_divergence(dst, s)))"
   ]
  },
  {
   "cell_type": "code",
   "execution_count": 9,
   "metadata": {},
   "outputs": [],
   "source": [
    "def score_with_normal(dst):\n",
    "    lower, upper = np.min(dst), np.max(dst)\n",
    "    mu, sigma = np.mean(dst), np.std(dst)\n",
    "    # s = np.random.truncnorm(mu, sigma, len(dst)) # TODO How many points to sample ?\n",
    "    s = st.truncnorm(a = (lower - mu) / sigma, b = (upper - mu) / sigma, loc=mu, scale=sigma).rvs(len(dst))\n",
    "    s = s.round().astype(int)\n",
    "    return my_kl_divergence(dst, s)"
   ]
  },
  {
   "cell_type": "code",
   "execution_count": 10,
   "metadata": {},
   "outputs": [
    {
     "data": {
      "image/png": "[encoded data removed]",
      "text/plain": [
       "<matplotlib.figure.Figure at 0x10a4bad30>"
      ]
     },
     "metadata": {},
     "output_type": "display_data"
    },
    {
     "name": "stdout",
     "output_type": "stream",
     "text": [
      "Kl Div = 0.09208560311108946\n"
     ]
    }
   ],
   "source": [
    "dst = fake1\n",
    "    \n",
    "lower, upper = np.min(dst), np.max(dst)\n",
    "u = np.random.uniform(lower, upper, len(dst)) # TODO How many points to sample ?\n",
    "u = u.round().astype(int)\n",
    "\n",
    "bns = int((upper-lower) + 1)\n",
    "plt.hist(dst, bins=bns, normed=True);\n",
    "plt.hist(u, alpha=0.5, bins=bns, normed=True);\n",
    "plt.title('Reconstructing Uniform(min,max) from Uniform Dst',loc='left')\n",
    "plt.show();\n",
    "print(\"Kl Div = {0}\".format(my_kl_divergence(dst, u)))"
   ]
  },
  {
   "cell_type": "code",
   "execution_count": 11,
   "metadata": {},
   "outputs": [],
   "source": [
    "def score_with_uniform(dst):\n",
    "    lower, upper = np.min(dst), np.max(dst)\n",
    "    u = np.random.uniform(lower, upper, len(dst)) # TODO How many points to sample ?\n",
    "    u = u.round().astype(int)\n",
    "    return my_kl_divergence(dst, u)"
   ]
  },
  {
   "cell_type": "code",
   "execution_count": 12,
   "metadata": {},
   "outputs": [
    {
     "name": "stdout",
     "output_type": "stream",
     "text": [
      "1\n",
      "0\n"
     ]
    },
    {
     "name": "stderr",
     "output_type": "stream",
     "text": [
      "/Users/gourabmi/Documents/workspace/infer_columns/venv3/lib/python3.6/site-packages/IPython/core/interactiveshell.py:2728: DtypeWarning: Columns (1,2,3,4,5,6,7,8,9,10,11) have mixed types. Specify dtype option on import or set low_memory=False.\n",
      "  interactivity=interactivity, compiler=compiler, result=result)\n"
     ]
    }
   ],
   "source": [
    "dt = pd.read_csv('./data/protection_NHDPv2_WBD.csv')\n",
    "dt.dtypes\n",
    "t = pd.to_numeric(dt['PIUCN_IB'], errors='coerce')\n",
    "print(t.isnull().sum())\n",
    "t = t[~t.isnull()]\n",
    "print(t.isnull().sum())"
   ]
  },
  {
   "cell_type": "code",
   "execution_count": 21,
   "metadata": {},
   "outputs": [],
   "source": [
    "def score_with_lognorm(dst):\n",
    "    mu, sigma = np.mean(dst), np.std(dst)\n",
    "    u = st.lognorm(s = mu, loc=0, scale=np.exp(mu))\n",
    "    u = u.round().astype(int)\n",
    "    return my_kl_divergence(dst, u)"
   ]
  },
  {
   "cell_type": "code",
   "execution_count": null,
   "metadata": {},
   "outputs": [],
   "source": [
    "dt = pd.read_csv('./data/protection_NHDPv2_WBD.csv') # Check a longtailed distribution for fitting here\n",
    "print(dt.dtypes)\n",
    "t = pd.to_numeric(dt['PIUCN_IB'], errors='coerce')\n",
    "t = t[~t.isnull()]"
   ]
  },
  {
   "cell_type": "code",
   "execution_count": 13,
   "metadata": {},
   "outputs": [
    {
     "name": "stdout",
     "output_type": "stream",
     "text": [
      "0.6654294256642928\n",
      "0.6654294272902794\n",
      "1.0\n"
     ]
    }
   ],
   "source": [
    "# https://stackoverflow.com/questions/26743201/interpreting-scipy-stats-entropy-values\n",
    "# https://docs.scipy.org/doc/scipy/reference/generated/scipy.stats.uniform.html\n",
    "# https://stackoverflow.com/questions/44572109/what-are-the-arguments-for-scipy-stats-uniform\n",
    "def kl_div_with_normal(s1, s2):\n",
    "    t1 = pd.to_numeric(s1, errors='coerce')\n",
    "    t2 = pd.to_numeric(s2, errors='coerce')\n",
    "#     print(t1.isnull().sum())\n",
    "#     print(t2.isnull().sum())\n",
    "    t1 = t1[~t1.isnull()]\n",
    "    t2 = t2[~t2.isnull()]\n",
    "#     print(t1.isnull().sum())\n",
    "#     print(t2.isnull().sum())\n",
    "    lower1, upper1 = np.min(t1), np.max(t1)\n",
    "    mu1, sigma1 = np.mean(t1), np.std(t1)\n",
    "    d1 = st.norm(mu1, sigma1)\n",
    "    \n",
    "    lower2, upper2 = np.min(t2), np.max(t2)\n",
    "    mu2, sigma2 = np.mean(t2), np.std(t2)\n",
    "    d2 = st.uniform(loc = lower2, scale=upper2)\n",
    "#     d2 = st.norm(mu2, sigma2)\n",
    "#     print(\"{0} - {1}({2}) {3}-{4}({5})\".format(lower1, upper1,len(t1), lower2, upper2, len(t2)))\n",
    "#     l = min(lower1, lower2) \n",
    "#     u = max(upper1, upper2)\n",
    "#     ln = max(len(t1), len(t2))\n",
    "#     X = np.linspace(l, u, ln)\n",
    "\n",
    "    # domain to evaluate PDF on\n",
    "    X = np.linspace(min(lower1, lower2), max(upper1, upper2), max(len(t1), len(t2)))\n",
    "    e = st.entropy(d1.pdf(X), d2.pdf(X))\n",
    "    return e\n",
    "\n",
    "def normalized_kl_div(p, q):\n",
    "    k = kl_div_with_normal(p, q)\n",
    "    return (1 - np.exp(-k))\n",
    "\n",
    "print(normalized_kl_div(dt['PIUCN_IB'],dt['PIUCN_ALL']))\n",
    "print(normalized_kl_div(dt['PIUCN_IB'],dt['PGAPSTAT1_2']))\n",
    "print(normalized_kl_div(dt['PIUCN_IB'],dt['PIUCN_VI']))"
   ]
  },
  {
   "cell_type": "code",
   "execution_count": 14,
   "metadata": {},
   "outputs": [
    {
     "data": {
      "text/plain": [
       "1.0"
      ]
     },
     "execution_count": 14,
     "metadata": {},
     "output_type": "execute_result"
    }
   ],
   "source": [
    "k = kl_div_with_normal(dt['PIUCN_IB'],dt['PIUCN_VI'])\n",
    "1 - np.exp(-k)"
   ]
  },
  {
   "cell_type": "code",
   "execution_count": 15,
   "metadata": {},
   "outputs": [
    {
     "ename": "FileNotFoundError",
     "evalue": "File b'./outputs/ColumnSimilarities_20180320_2231.csv' does not exist",
     "output_type": "error",
     "traceback": [
      "\u001b[0;31m---------------------------------------------------------------------------\u001b[0m",
      "\u001b[0;31mFileNotFoundError\u001b[0m                         Traceback (most recent call last)",
      "\u001b[0;32m<ipython-input-15-7329103b5a18>\u001b[0m in \u001b[0;36m<module>\u001b[0;34m()\u001b[0m\n\u001b[0;32m----> 1\u001b[0;31m \u001b[0mrdf\u001b[0m \u001b[0;34m=\u001b[0m \u001b[0mpd\u001b[0m\u001b[0;34m.\u001b[0m\u001b[0mread_csv\u001b[0m\u001b[0;34m(\u001b[0m\u001b[0;34m'./outputs/ColumnSimilarities_20180320_2231.csv'\u001b[0m\u001b[0;34m)\u001b[0m\u001b[0;34m\u001b[0m\u001b[0m\n\u001b[0m\u001b[1;32m      2\u001b[0m \u001b[0mrdf\u001b[0m\u001b[0;34m.\u001b[0m\u001b[0mhead\u001b[0m\u001b[0;34m(\u001b[0m\u001b[0;34m)\u001b[0m\u001b[0;34m\u001b[0m\u001b[0m\n",
      "\u001b[0;32m~/Documents/workspace/infer_columns/venv3/lib/python3.6/site-packages/pandas/io/parsers.py\u001b[0m in \u001b[0;36mparser_f\u001b[0;34m(filepath_or_buffer, sep, delimiter, header, names, index_col, usecols, squeeze, prefix, mangle_dupe_cols, dtype, engine, converters, true_values, false_values, skipinitialspace, skiprows, nrows, na_values, keep_default_na, na_filter, verbose, skip_blank_lines, parse_dates, infer_datetime_format, keep_date_col, date_parser, dayfirst, iterator, chunksize, compression, thousands, decimal, lineterminator, quotechar, quoting, escapechar, comment, encoding, dialect, tupleize_cols, error_bad_lines, warn_bad_lines, skipfooter, skip_footer, doublequote, delim_whitespace, as_recarray, compact_ints, use_unsigned, low_memory, buffer_lines, memory_map, float_precision)\u001b[0m\n\u001b[1;32m    644\u001b[0m                     skip_blank_lines=skip_blank_lines)\n\u001b[1;32m    645\u001b[0m \u001b[0;34m\u001b[0m\u001b[0m\n\u001b[0;32m--> 646\u001b[0;31m         \u001b[0;32mreturn\u001b[0m \u001b[0m_read\u001b[0m\u001b[0;34m(\u001b[0m\u001b[0mfilepath_or_buffer\u001b[0m\u001b[0;34m,\u001b[0m \u001b[0mkwds\u001b[0m\u001b[0;34m)\u001b[0m\u001b[0;34m\u001b[0m\u001b[0m\n\u001b[0m\u001b[1;32m    647\u001b[0m \u001b[0;34m\u001b[0m\u001b[0m\n\u001b[1;32m    648\u001b[0m     \u001b[0mparser_f\u001b[0m\u001b[0;34m.\u001b[0m\u001b[0m__name__\u001b[0m \u001b[0;34m=\u001b[0m \u001b[0mname\u001b[0m\u001b[0;34m\u001b[0m\u001b[0m\n",
      "\u001b[0;32m~/Documents/workspace/infer_columns/venv3/lib/python3.6/site-packages/pandas/io/parsers.py\u001b[0m in \u001b[0;36m_read\u001b[0;34m(filepath_or_buffer, kwds)\u001b[0m\n\u001b[1;32m    387\u001b[0m \u001b[0;34m\u001b[0m\u001b[0m\n\u001b[1;32m    388\u001b[0m     \u001b[0;31m# Create the parser.\u001b[0m\u001b[0;34m\u001b[0m\u001b[0;34m\u001b[0m\u001b[0m\n\u001b[0;32m--> 389\u001b[0;31m     \u001b[0mparser\u001b[0m \u001b[0;34m=\u001b[0m \u001b[0mTextFileReader\u001b[0m\u001b[0;34m(\u001b[0m\u001b[0mfilepath_or_buffer\u001b[0m\u001b[0;34m,\u001b[0m \u001b[0;34m**\u001b[0m\u001b[0mkwds\u001b[0m\u001b[0;34m)\u001b[0m\u001b[0;34m\u001b[0m\u001b[0m\n\u001b[0m\u001b[1;32m    390\u001b[0m \u001b[0;34m\u001b[0m\u001b[0m\n\u001b[1;32m    391\u001b[0m     \u001b[0;32mif\u001b[0m \u001b[0;34m(\u001b[0m\u001b[0mnrows\u001b[0m \u001b[0;32mis\u001b[0m \u001b[0;32mnot\u001b[0m \u001b[0;32mNone\u001b[0m\u001b[0;34m)\u001b[0m \u001b[0;32mand\u001b[0m \u001b[0;34m(\u001b[0m\u001b[0mchunksize\u001b[0m \u001b[0;32mis\u001b[0m \u001b[0;32mnot\u001b[0m \u001b[0;32mNone\u001b[0m\u001b[0;34m)\u001b[0m\u001b[0;34m:\u001b[0m\u001b[0;34m\u001b[0m\u001b[0m\n",
      "\u001b[0;32m~/Documents/workspace/infer_columns/venv3/lib/python3.6/site-packages/pandas/io/parsers.py\u001b[0m in \u001b[0;36m__init__\u001b[0;34m(self, f, engine, **kwds)\u001b[0m\n\u001b[1;32m    728\u001b[0m             \u001b[0mself\u001b[0m\u001b[0;34m.\u001b[0m\u001b[0moptions\u001b[0m\u001b[0;34m[\u001b[0m\u001b[0;34m'has_index_names'\u001b[0m\u001b[0;34m]\u001b[0m \u001b[0;34m=\u001b[0m \u001b[0mkwds\u001b[0m\u001b[0;34m[\u001b[0m\u001b[0;34m'has_index_names'\u001b[0m\u001b[0;34m]\u001b[0m\u001b[0;34m\u001b[0m\u001b[0m\n\u001b[1;32m    729\u001b[0m \u001b[0;34m\u001b[0m\u001b[0m\n\u001b[0;32m--> 730\u001b[0;31m         \u001b[0mself\u001b[0m\u001b[0;34m.\u001b[0m\u001b[0m_make_engine\u001b[0m\u001b[0;34m(\u001b[0m\u001b[0mself\u001b[0m\u001b[0;34m.\u001b[0m\u001b[0mengine\u001b[0m\u001b[0;34m)\u001b[0m\u001b[0;34m\u001b[0m\u001b[0m\n\u001b[0m\u001b[1;32m    731\u001b[0m \u001b[0;34m\u001b[0m\u001b[0m\n\u001b[1;32m    732\u001b[0m     \u001b[0;32mdef\u001b[0m \u001b[0mclose\u001b[0m\u001b[0;34m(\u001b[0m\u001b[0mself\u001b[0m\u001b[0;34m)\u001b[0m\u001b[0;34m:\u001b[0m\u001b[0;34m\u001b[0m\u001b[0m\n",
      "\u001b[0;32m~/Documents/workspace/infer_columns/venv3/lib/python3.6/site-packages/pandas/io/parsers.py\u001b[0m in \u001b[0;36m_make_engine\u001b[0;34m(self, engine)\u001b[0m\n\u001b[1;32m    921\u001b[0m     \u001b[0;32mdef\u001b[0m \u001b[0m_make_engine\u001b[0m\u001b[0;34m(\u001b[0m\u001b[0mself\u001b[0m\u001b[0;34m,\u001b[0m \u001b[0mengine\u001b[0m\u001b[0;34m=\u001b[0m\u001b[0;34m'c'\u001b[0m\u001b[0;34m)\u001b[0m\u001b[0;34m:\u001b[0m\u001b[0;34m\u001b[0m\u001b[0m\n\u001b[1;32m    922\u001b[0m         \u001b[0;32mif\u001b[0m \u001b[0mengine\u001b[0m \u001b[0;34m==\u001b[0m \u001b[0;34m'c'\u001b[0m\u001b[0;34m:\u001b[0m\u001b[0;34m\u001b[0m\u001b[0m\n\u001b[0;32m--> 923\u001b[0;31m             \u001b[0mself\u001b[0m\u001b[0;34m.\u001b[0m\u001b[0m_engine\u001b[0m \u001b[0;34m=\u001b[0m \u001b[0mCParserWrapper\u001b[0m\u001b[0;34m(\u001b[0m\u001b[0mself\u001b[0m\u001b[0;34m.\u001b[0m\u001b[0mf\u001b[0m\u001b[0;34m,\u001b[0m \u001b[0;34m**\u001b[0m\u001b[0mself\u001b[0m\u001b[0;34m.\u001b[0m\u001b[0moptions\u001b[0m\u001b[0;34m)\u001b[0m\u001b[0;34m\u001b[0m\u001b[0m\n\u001b[0m\u001b[1;32m    924\u001b[0m         \u001b[0;32melse\u001b[0m\u001b[0;34m:\u001b[0m\u001b[0;34m\u001b[0m\u001b[0m\n\u001b[1;32m    925\u001b[0m             \u001b[0;32mif\u001b[0m \u001b[0mengine\u001b[0m \u001b[0;34m==\u001b[0m \u001b[0;34m'python'\u001b[0m\u001b[0;34m:\u001b[0m\u001b[0;34m\u001b[0m\u001b[0m\n",
      "\u001b[0;32m~/Documents/workspace/infer_columns/venv3/lib/python3.6/site-packages/pandas/io/parsers.py\u001b[0m in \u001b[0;36m__init__\u001b[0;34m(self, src, **kwds)\u001b[0m\n\u001b[1;32m   1388\u001b[0m         \u001b[0mkwds\u001b[0m\u001b[0;34m[\u001b[0m\u001b[0;34m'allow_leading_cols'\u001b[0m\u001b[0;34m]\u001b[0m \u001b[0;34m=\u001b[0m \u001b[0mself\u001b[0m\u001b[0;34m.\u001b[0m\u001b[0mindex_col\u001b[0m \u001b[0;32mis\u001b[0m \u001b[0;32mnot\u001b[0m \u001b[0;32mFalse\u001b[0m\u001b[0;34m\u001b[0m\u001b[0m\n\u001b[1;32m   1389\u001b[0m \u001b[0;34m\u001b[0m\u001b[0m\n\u001b[0;32m-> 1390\u001b[0;31m         \u001b[0mself\u001b[0m\u001b[0;34m.\u001b[0m\u001b[0m_reader\u001b[0m \u001b[0;34m=\u001b[0m \u001b[0m_parser\u001b[0m\u001b[0;34m.\u001b[0m\u001b[0mTextReader\u001b[0m\u001b[0;34m(\u001b[0m\u001b[0msrc\u001b[0m\u001b[0;34m,\u001b[0m \u001b[0;34m**\u001b[0m\u001b[0mkwds\u001b[0m\u001b[0;34m)\u001b[0m\u001b[0;34m\u001b[0m\u001b[0m\n\u001b[0m\u001b[1;32m   1391\u001b[0m \u001b[0;34m\u001b[0m\u001b[0m\n\u001b[1;32m   1392\u001b[0m         \u001b[0;31m# XXX\u001b[0m\u001b[0;34m\u001b[0m\u001b[0;34m\u001b[0m\u001b[0m\n",
      "\u001b[0;32mpandas/parser.pyx\u001b[0m in \u001b[0;36mpandas.parser.TextReader.__cinit__ (pandas/parser.c:4184)\u001b[0;34m()\u001b[0m\n",
      "\u001b[0;32mpandas/parser.pyx\u001b[0m in \u001b[0;36mpandas.parser.TextReader._setup_parser_source (pandas/parser.c:8449)\u001b[0;34m()\u001b[0m\n",
      "\u001b[0;31mFileNotFoundError\u001b[0m: File b'./outputs/ColumnSimilarities_20180320_2231.csv' does not exist"
     ]
    }
   ],
   "source": [
    "rdf = pd.read_csv('./outputs/ColumnSimilarities_20180320_2231.csv')\n",
    "rdf.head()"
   ]
  },
  {
   "cell_type": "code",
   "execution_count": null,
   "metadata": {},
   "outputs": [],
   "source": [
    "chunk = rdf[rdf['column_name1'] =='PctAg_slope3']\n",
    "chunk.sort('kl_divergence').head()"
   ]
  },
  {
   "cell_type": "code",
   "execution_count": null,
   "metadata": {},
   "outputs": [],
   "source": [
    "# rdf.groupby('column_name1').kl_divergence.agg('min')\n",
    "res = rdf.groupby(['dataset_id1','column_name1'], as_index=False).agg({'kl_divergence':'min', 'dataset_id2':'first', 'column_name2':'first', 'lex_distance_lv':'first', 'lex_distance_ng':'first'})\n",
    "res.to_csv(\".\\outputs\\TestOP1.csv\", index=False)\n",
    "res.head()"
   ]
  },
  {
   "cell_type": "code",
   "execution_count": null,
   "metadata": {},
   "outputs": [],
   "source": [
    "RESULTS_SCHEMA = ('dataset_id1', 'column_name1', 'type1', 'dataset_id2', 'column_name2', 'type2', 'kl_divergence', 'lex_distance_lv','lex_distance_ng')\n",
    "# res = rdf.groupby(['dataset_id1','column_name1'], as_index=False).agg({'kl_divergence':'min', 'dataset_id2':'first', 'column_name2':'first', 'lex_distance_lv':'first', 'lex_distance_ng':'first'})\n",
    "res = rdf.groupby([RESULTS_SCHEMA[0],RESULTS_SCHEMA[1]], as_index=False).agg({RESULTS_SCHEMA[6]:'min', RESULTS_SCHEMA[3]:'first', RESULTS_SCHEMA[4]:'first', RESULTS_SCHEMA[7]:'first', RESULTS_SCHEMA[8]:'first'})\n",
    "res.sort_index(axis=1, inplace=True)\n",
    "res.to_csv(\".\\outputs\\TestOP2.csv\", index=False)\n",
    "res.head()"
   ]
  }
 ],
 "metadata": {
  "kernelspec": {
   "display_name": "Python 3",
   "language": "python",
   "name": "python3"
  },
  "language_info": {
   "codemirror_mode": {
    "name": "ipython",
    "version": 3
   },
   "file_extension": ".py",
   "mimetype": "text/x-python",
   "name": "python",
   "nbconvert_exporter": "python",
   "pygments_lexer": "ipython3",
   "version": "3.6.1"
  }
 },
 "nbformat": 4,
 "nbformat_minor": 2
}
