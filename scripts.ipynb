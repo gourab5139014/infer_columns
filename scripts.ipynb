{
 "cells": [
  {
   "cell_type": "code",
   "execution_count": 25,
   "metadata": {},
   "outputs": [],
   "source": [
    "%matplotlib inline\n",
    "import numpy as np\n",
    "import pandas as pd\n",
    "from pandas.api.types import is_string_dtype\n",
    "import matplotlib.pyplot as plt\n",
    "import scipy.stats  as stats"
   ]
  },
  {
   "cell_type": "code",
   "execution_count": 3,
   "metadata": {},
   "outputs": [],
   "source": [
    "df = pd.read_csv('total_waterborne_commerce.csv')"
   ]
  },
  {
   "cell_type": "code",
   "execution_count": 5,
   "metadata": {},
   "outputs": [],
   "source": [
    "col1 = df['Year'].values\n",
    "col2 = df['Total'].values\n",
    "col3 = df['Foreign'].values\n",
    "col4 = df['Domestic'].values"
   ]
  },
  {
   "cell_type": "code",
   "execution_count": 33,
   "metadata": {},
   "outputs": [
    {
     "data": {
      "text/html": [
       "<div>\n",
       "<table border=\"1\" class=\"dataframe\">\n",
       "  <thead>\n",
       "    <tr style=\"text-align: right;\">\n",
       "      <th></th>\n",
       "      <th>Year</th>\n",
       "      <th>Fatal</th>\n",
       "      <th>Unnamed: 8</th>\n",
       "      <th>Unnamed: 9</th>\n",
       "    </tr>\n",
       "  </thead>\n",
       "  <tbody>\n",
       "    <tr>\n",
       "      <th>count</th>\n",
       "      <td>40.000000</td>\n",
       "      <td>40.000000</td>\n",
       "      <td>0.0</td>\n",
       "      <td>0.0</td>\n",
       "    </tr>\n",
       "    <tr>\n",
       "      <th>mean</th>\n",
       "      <td>1994.500000</td>\n",
       "      <td>424.425000</td>\n",
       "      <td>NaN</td>\n",
       "      <td>NaN</td>\n",
       "    </tr>\n",
       "    <tr>\n",
       "      <th>std</th>\n",
       "      <td>11.690452</td>\n",
       "      <td>137.142615</td>\n",
       "      <td>NaN</td>\n",
       "      <td>NaN</td>\n",
       "    </tr>\n",
       "    <tr>\n",
       "      <th>min</th>\n",
       "      <td>1975.000000</td>\n",
       "      <td>222.000000</td>\n",
       "      <td>NaN</td>\n",
       "      <td>NaN</td>\n",
       "    </tr>\n",
       "    <tr>\n",
       "      <th>25%</th>\n",
       "      <td>1984.750000</td>\n",
       "      <td>319.250000</td>\n",
       "      <td>NaN</td>\n",
       "      <td>NaN</td>\n",
       "    </tr>\n",
       "    <tr>\n",
       "      <th>50%</th>\n",
       "      <td>1994.500000</td>\n",
       "      <td>402.500000</td>\n",
       "      <td>NaN</td>\n",
       "      <td>NaN</td>\n",
       "    </tr>\n",
       "    <tr>\n",
       "      <th>75%</th>\n",
       "      <td>2004.250000</td>\n",
       "      <td>509.750000</td>\n",
       "      <td>NaN</td>\n",
       "      <td>NaN</td>\n",
       "    </tr>\n",
       "    <tr>\n",
       "      <th>max</th>\n",
       "      <td>2014.000000</td>\n",
       "      <td>719.000000</td>\n",
       "      <td>NaN</td>\n",
       "      <td>NaN</td>\n",
       "    </tr>\n",
       "  </tbody>\n",
       "</table>\n",
       "</div>"
      ],
      "text/plain": [
       "              Year       Fatal  Unnamed: 8  Unnamed: 9\n",
       "count    40.000000   40.000000         0.0         0.0\n",
       "mean   1994.500000  424.425000         NaN         NaN\n",
       "std      11.690452  137.142615         NaN         NaN\n",
       "min    1975.000000  222.000000         NaN         NaN\n",
       "25%    1984.750000  319.250000         NaN         NaN\n",
       "50%    1994.500000  402.500000         NaN         NaN\n",
       "75%    2004.250000  509.750000         NaN         NaN\n",
       "max    2014.000000  719.000000         NaN         NaN"
      ]
     },
     "execution_count": 33,
     "metadata": {},
     "output_type": "execute_result"
    }
   ],
   "source": [
    "df = pd.read_csv('./data/accident_fatalities_table_cleaned.csv')\n",
    "df.describe()"
   ]
  },
  {
   "cell_type": "code",
   "execution_count": 26,
   "metadata": {},
   "outputs": [
    {
     "name": "stdout",
     "output_type": "stream",
     "text": [
      "Year                int64\n",
      "All                object\n",
      "Fatal               int64\n",
      "Total              object\n",
      "Aboard             object\n",
      " Flight Hours      object\n",
      " All               object\n",
      " Fatal             object\n",
      "Unnamed: 8        float64\n",
      "Unnamed: 9        float64\n",
      "dtype: object\n"
     ]
    },
    {
     "data": {
      "text/plain": [
       "True"
      ]
     },
     "execution_count": 26,
     "metadata": {},
     "output_type": "execute_result"
    }
   ],
   "source": [
    "print(df.dtypes)\n",
    "is_string_dtype(df['All'])"
   ]
  },
  {
   "cell_type": "code",
   "execution_count": 30,
   "metadata": {},
   "outputs": [
    {
     "name": "stdout",
     "output_type": "stream",
     "text": [
      "Cleaning All\n",
      "Cleaning Total\n",
      "Cleaning Aboard\n",
      "Cleaning  Flight Hours \n",
      "Cleaning  All \n",
      "Cleaning  Fatal \n",
      "Year                int64\n",
      "All                object\n",
      "Fatal               int64\n",
      "Total              object\n",
      "Aboard             object\n",
      " Flight Hours      object\n",
      " All               object\n",
      " Fatal             object\n",
      "Unnamed: 8        float64\n",
      "Unnamed: 9        float64\n",
      "dtype: object\n"
     ]
    }
   ],
   "source": [
    "# df['All'] = df['All'].str.strip()\n",
    "for c in df:\n",
    "    if is_string_dtype(df[c]):\n",
    "        print(\"Cleaning {0}\".format(c))\n",
    "        df[c] = df[c].apply(lambda x: x.strip().replace(',',''))\n",
    "print(df.dtypes)"
   ]
  },
  {
   "cell_type": "code",
   "execution_count": 12,
   "metadata": {},
   "outputs": [
    {
     "data": {
      "text/plain": [
       "0     3995\n",
       "1     4018\n",
       "2     4079\n",
       "3     4216\n",
       "4     3818\n",
       "5     3590\n",
       "6     3500\n",
       "7     3233\n",
       "8     3075\n",
       "9     3017\n",
       "10    2739\n",
       "11    2581\n",
       "12    2494\n",
       "13    2388\n",
       "14    2242\n",
       "15    2242\n",
       "16    2197\n",
       "17    2110\n",
       "18    2064\n",
       "19    2021\n",
       "20    2056\n",
       "21    1908\n",
       "22    1840\n",
       "23    1902\n",
       "24    1905\n",
       "25    1837\n",
       "26    1727\n",
       "27    1716\n",
       "28    1741\n",
       "29    1619\n",
       "30    1671\n",
       "31    1523\n",
       "32    1654\n",
       "33    1568\n",
       "34    1480\n",
       "35    1440\n",
       "36    1470\n",
       "37    1470\n",
       "38    1224\n",
       "39    1221\n",
       "Name: All, dtype: object"
      ]
     },
     "execution_count": 12,
     "metadata": {},
     "output_type": "execute_result"
    }
   ],
   "source": [
    "df['All'].str.replace(',', '')"
   ]
  },
  {
   "cell_type": "code",
   "execution_count": 14,
   "metadata": {},
   "outputs": [
    {
     "data": {
      "text/plain": [
       "0     3995\n",
       "1     4018\n",
       "2     4079\n",
       "3     4216\n",
       "4     3818\n",
       "5     3590\n",
       "6     3500\n",
       "7     3233\n",
       "8     3075\n",
       "9     3017\n",
       "10    2739\n",
       "11    2581\n",
       "12    2494\n",
       "13    2388\n",
       "14    2242\n",
       "15    2242\n",
       "16    2197\n",
       "17    2110\n",
       "18    2064\n",
       "19    2021\n",
       "20    2056\n",
       "21    1908\n",
       "22    1840\n",
       "23    1902\n",
       "24    1905\n",
       "25    1837\n",
       "26    1727\n",
       "27    1716\n",
       "28    1741\n",
       "29    1619\n",
       "30    1671\n",
       "31    1523\n",
       "32    1654\n",
       "33    1568\n",
       "34    1480\n",
       "35    1440\n",
       "36    1470\n",
       "37    1470\n",
       "38    1224\n",
       "39    1221\n",
       "Name: All, dtype: object"
      ]
     },
     "execution_count": 14,
     "metadata": {},
     "output_type": "execute_result"
    }
   ],
   "source": [
    "df['All'].apply(lambda x: x.replace(',',''))"
   ]
  }
 ],
 "metadata": {
  "kernelspec": {
   "display_name": "Python 3",
   "language": "python",
   "name": "python3"
  },
  "language_info": {
   "codemirror_mode": {
    "name": "ipython",
    "version": 3
   },
   "file_extension": ".py",
   "mimetype": "text/x-python",
   "name": "python",
   "nbconvert_exporter": "python",
   "pygments_lexer": "ipython3",
   "version": "3.5.1"
  }
 },
 "nbformat": 4,
 "nbformat_minor": 2
}
