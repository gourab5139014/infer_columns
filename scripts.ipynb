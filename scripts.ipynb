{
 "cells": [
  {
   "cell_type": "code",
   "execution_count": 2,
   "metadata": {},
   "outputs": [],
   "source": [
    "%matplotlib inline\n",
    "import numpy as np\n",
    "import pandas as pd\n",
    "from pandas.api.types import is_string_dtype\n",
    "import matplotlib.pyplot as plt\n",
    "import scipy.stats  as st"
   ]
  },
  {
   "cell_type": "code",
   "execution_count": 6,
   "metadata": {},
   "outputs": [
    {
     "name": "stdout",
     "output_type": "stream",
     "text": [
      "count     82915.000000\n",
      "mean       5588.623027\n",
      "std        9783.657892\n",
      "min           0.000000\n",
      "25%         526.199699\n",
      "50%        2582.037270\n",
      "75%        7082.483074\n",
      "max      670509.739597\n",
      "Name: FF_Demand, dtype: float64\n",
      "count    82915.000000\n",
      "mean       344.976958\n",
      "std        538.162321\n",
      "min          0.000000\n",
      "25%         46.194831\n",
      "50%        158.296172\n",
      "75%        443.438157\n",
      "max      35056.127548\n",
      "Name: MB_Demand, dtype: float64\n"
     ]
    }
   ],
   "source": [
    "df1 = pd.read_csv('./data/FreshWaterFishing_RecreationDemand.csv')\n",
    "df1 = df1.dropna(axis=1, how='all')\n",
    "df2 = pd.read_csv('./data/MigratoryBirdHunting_RecreationDemand.csv')\n",
    "df2 = df2.dropna(axis=1, how='all')\n",
    "c1 = df1['FF_Demand']\n",
    "t = pd.to_numeric(c1, errors='coerce')\n",
    "c1 = t.dropna().sort_values()\n",
    "c2 = df2['MB_Demand']\n",
    "t = pd.to_numeric(c2, errors='coerce')\n",
    "c2 = t.dropna().sort_values()\n",
    "print(c1.describe())\n",
    "print(c2.describe())"
   ]
  },
  {
   "cell_type": "code",
   "execution_count": 16,
   "metadata": {},
   "outputs": [
    {
     "name": "stderr",
     "output_type": "stream",
     "text": [
      "/Users/gourabmi/Documents/workspace/infer_columns/venv3/lib/python3.6/site-packages/ipykernel_launcher.py:2: RuntimeWarning: overflow encountered in exp\n",
      "  \n"
     ]
    },
    {
     "data": {
      "text/plain": [
       "0.0"
      ]
     },
     "execution_count": 16,
     "metadata": {},
     "output_type": "execute_result"
    }
   ],
   "source": [
    "mu, sigma = np.mean(c1), np.std(c1)\n",
    "l = st.lognorm(s = mu, loc=0, scale=np.exp(mu))\n",
    "x = np.arange(len(c1))\n",
    "y = l.pdf(x)\n",
    "np.sum(y)"
   ]
  },
  {
   "cell_type": "code",
   "execution_count": 7,
   "metadata": {},
   "outputs": [
    {
     "data": {
      "text/plain": [
       "<matplotlib.collections.PathCollection at 0x10cacf080>"
      ]
     },
     "execution_count": 7,
     "metadata": {},
     "output_type": "execute_result"
    },
    {
     "data": {
      "image/png": "[encoded data removed]",
      "text/plain": [
       "<matplotlib.figure.Figure at 0x10c764d68>"
      ]
     },
     "metadata": {},
     "output_type": "display_data"
    }
   ],
   "source": [
    "plt.scatter(np.arange(len(c1)),c1, s = 10, c='r')"
   ]
  },
  {
   "cell_type": "code",
   "execution_count": 8,
   "metadata": {},
   "outputs": [
    {
     "data": {
      "text/plain": [
       "<matplotlib.collections.PathCollection at 0x10c6190f0>"
      ]
     },
     "execution_count": 8,
     "metadata": {},
     "output_type": "execute_result"
    },
    {
     "data": {
      "image/png": "[encoded data removed]",
      "text/plain": [
       "<matplotlib.figure.Figure at 0x10c7949e8>"
      ]
     },
     "metadata": {},
     "output_type": "display_data"
    }
   ],
   "source": [
    "plt.scatter(np.arange(len(c2)),c2, s = 10, c= 'b')"
   ]
  }
 ],
 "metadata": {
  "kernelspec": {
   "display_name": "Python 3",
   "language": "python",
   "name": "python3"
  },
  "language_info": {
   "codemirror_mode": {
    "name": "ipython",
    "version": 3
   },
   "file_extension": ".py",
   "mimetype": "text/x-python",
   "name": "python",
   "nbconvert_exporter": "python",
   "pygments_lexer": "ipython3",
   "version": "3.6.1"
  }
 },
 "nbformat": 4,
 "nbformat_minor": 2
}
