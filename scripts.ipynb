{
 "cells": [
  {
   "cell_type": "code",
   "execution_count": 1,
   "metadata": {},
   "outputs": [],
   "source": [
    "%matplotlib inline\n",
    "import numpy as np\n",
    "import pandas as pd\n",
    "from pandas.api.types import is_string_dtype\n",
    "import matplotlib.pyplot as plt\n",
    "import scipy.stats  as st"
   ]
  },
  {
   "cell_type": "code",
   "execution_count": 2,
   "metadata": {},
   "outputs": [
    {
     "name": "stdout",
     "output_type": "stream",
     "text": [
      "count    14327.000000\n",
      "mean         3.391584\n",
      "std          1.557265\n",
      "min          0.200000\n",
      "25%          2.200000\n",
      "50%          3.100000\n",
      "75%          4.200000\n",
      "max         15.600000\n",
      "Name: SMGA_AVG, dtype: float64\n",
      "count    11856.000000\n",
      "mean        12.198763\n",
      "std          2.065067\n",
      "min          0.000000\n",
      "25%         11.200000\n",
      "50%         12.300000\n",
      "75%         13.400000\n",
      "max         20.899999\n",
      "Name: SMGA_AVG, dtype: float64\n"
     ]
    }
   ],
   "source": [
    "df1 = pd.read_csv('./data/biodiversity_SW_NHDPv2_WBD.csv')\n",
    "df1 = df1.dropna(axis=1, how='all')\n",
    "df2 = pd.read_csv('./data/biodiversity_SE_NHDPv2_WBD.csv')\n",
    "df2 = df2.dropna(axis=1, how='all')\n",
    "c1 = df1['SMGA_AVG']\n",
    "t = pd.to_numeric(c1, errors='coerce')\n",
    "c1 = t.dropna().sort_values()\n",
    "c2 = df2['SMGA_AVG']\n",
    "t = pd.to_numeric(c2, errors='coerce')\n",
    "c2 = t.dropna().sort_values()\n",
    "print(c1.describe())\n",
    "print(c2.describe())"
   ]
  },
  {
   "cell_type": "code",
   "execution_count": null,
   "metadata": {},
   "outputs": [],
   "source": []
  },
  {
   "cell_type": "code",
   "execution_count": 3,
   "metadata": {},
   "outputs": [
    {
     "data": {
      "text/plain": [
       "<matplotlib.collections.PathCollection at 0x2b9d88fca90>"
      ]
     },
     "execution_count": 3,
     "metadata": {},
     "output_type": "execute_result"
    },
    {
     "data": {
      "image/png": "[encoded data removed]",
      "text/plain": [
       "<matplotlib.figure.Figure at 0x2b9d5087fd0>"
      ]
     },
     "metadata": {},
     "output_type": "display_data"
    }
   ],
   "source": [
    "plt.scatter(np.arange(len(c1)),c1, s = 10, c='r')"
   ]
  },
  {
   "cell_type": "code",
   "execution_count": 4,
   "metadata": {},
   "outputs": [
    {
     "data": {
      "text/plain": [
       "<matplotlib.collections.PathCollection at 0x2b9d8ac5be0>"
      ]
     },
     "execution_count": 4,
     "metadata": {},
     "output_type": "execute_result"
    },
    {
     "data": {
      "image/png": "[encoded data removed]",
      "text/plain": [
       "<matplotlib.figure.Figure at 0x2b9d7f12ac8>"
      ]
     },
     "metadata": {},
     "output_type": "display_data"
    }
   ],
   "source": [
    "plt.scatter(np.arange(len(c2)),c2, s = 10, c= 'b')"
   ]
  }
 ],
 "metadata": {
  "kernelspec": {
   "display_name": "Python 3",
   "language": "python",
   "name": "python3"
  },
  "language_info": {
   "codemirror_mode": {
    "name": "ipython",
    "version": 3
   },
   "file_extension": ".py",
   "mimetype": "text/x-python",
   "name": "python",
   "nbconvert_exporter": "python",
   "pygments_lexer": "ipython3",
   "version": "3.5.1"
  }
 },
 "nbformat": 4,
 "nbformat_minor": 2
}
